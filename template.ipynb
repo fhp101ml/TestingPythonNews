{
 "cells": [
  {
   "cell_type": "markdown",
   "metadata": {},
   "source": [
    "# Experiment Template\n",
    "\n",
    "### Description\n",
    "This notebook is designed as a template for experiments and testing with the latest features of Python.\n",
    "\n",
    "In this notebook, we explore and document new functionalities, libraries, and other topics of interest related to Python.\n",
    "\n",
    "### Requirements\n",
    "- Python 3.x (latest version)\n",
    "- Relevant libraries (specify below if any additional dependencies are needed)\n",
    "\n",
    "### References\n",
    "- link\n"
   ]
  },
  {
   "cell_type": "markdown",
   "id": "8697a6bf",
   "metadata": {},
   "source": [
    "## 0.Asegúrate de que Python 3.x esté instalado.\n",
    "\n",
    "### Instala ipykernel en Python 3.x:\n",
    "\n",
    "!python3 -m pip install ipykernel\n",
    "\n",
    "### Registra el kernel:\n",
    "\n",
    "!python3.8 -m ipykernel install --user --name python3.8 --display-name \"Python 3.8\"\n",
    "\n",
    "Ahora, puedes seleccionar Python 3.8 en Jupyter Notebook como se indicó arriba."
   ]
  },
  {
   "cell_type": "code",
   "execution_count": 9,
   "id": "e9b25b76",
   "metadata": {},
   "outputs": [
    {
     "name": "stdout",
     "output_type": "stream",
     "text": [
      "Defaulting to user installation because normal site-packages is not writeable\n",
      "Requirement already satisfied: ipykernel in /home/fernando/.local/lib/python3.10/site-packages (6.29.5)\n",
      "Requirement already satisfied: tornado>=6.1 in /home/fernando/.local/lib/python3.10/site-packages (from ipykernel) (6.4.1)\n",
      "Requirement already satisfied: comm>=0.1.1 in /home/fernando/.local/lib/python3.10/site-packages (from ipykernel) (0.2.2)\n",
      "Requirement already satisfied: debugpy>=1.6.5 in /home/fernando/.local/lib/python3.10/site-packages (from ipykernel) (1.8.7)\n",
      "Requirement already satisfied: jupyter-core!=5.0.*,>=4.12 in /home/fernando/.local/lib/python3.10/site-packages (from ipykernel) (5.7.2)\n",
      "Requirement already satisfied: psutil in /usr/lib/python3/dist-packages (from ipykernel) (5.9.0)\n",
      "Requirement already satisfied: nest-asyncio in /usr/lib/python3/dist-packages (from ipykernel) (1.5.4)\n",
      "Requirement already satisfied: pyzmq>=24 in /home/fernando/.local/lib/python3.10/site-packages (from ipykernel) (26.2.0)\n",
      "Requirement already satisfied: ipython>=7.23.1 in /usr/lib/python3/dist-packages (from ipykernel) (7.31.1)\n",
      "Requirement already satisfied: traitlets>=5.4.0 in /home/fernando/.local/lib/python3.10/site-packages (from ipykernel) (5.14.3)\n",
      "Requirement already satisfied: jupyter-client>=6.1.12 in /home/fernando/.local/lib/python3.10/site-packages (from ipykernel) (8.6.3)\n",
      "Requirement already satisfied: packaging in /home/fernando/.local/lib/python3.10/site-packages (from ipykernel) (24.1)\n",
      "Requirement already satisfied: matplotlib-inline>=0.1 in /usr/lib/python3/dist-packages (from ipykernel) (0.1.3)\n",
      "Requirement already satisfied: python-dateutil>=2.8.2 in /usr/local/lib/python3.10/dist-packages (from jupyter-client>=6.1.12->ipykernel) (2.8.2)\n",
      "Requirement already satisfied: platformdirs>=2.5 in /home/fernando/.local/lib/python3.10/site-packages (from jupyter-core!=5.0.*,>=4.12->ipykernel) (2.5.3)\n",
      "Requirement already satisfied: six>=1.5 in /usr/lib/python3/dist-packages (from python-dateutil>=2.8.2->jupyter-client>=6.1.12->ipykernel) (1.16.0)\n",
      "Installed kernelspec python3.13 in /home/fernando/snap/code/174/.local/share/jupyter/kernels/python3.13\n"
     ]
    }
   ],
   "source": [
    "!python3 -m pip install ipykernel\n",
    "!python3 -m ipykernel install --user --name python3.13 --display-name \"Python 3.13\""
   ]
  },
  {
   "cell_type": "markdown",
   "metadata": {},
   "source": [
    "## 1. Setup and Imports\n",
    "\n",
    "Import the necessary libraries and set up configurations required for the notebook."
   ]
  },
  {
   "cell_type": "code",
   "execution_count": null,
   "id": "0c6c2d79",
   "metadata": {},
   "outputs": [
    {
     "name": "stdout",
     "output_type": "stream",
     "text": [
      "Installed kernelspec python3.10 in /home/fernando/snap/code/174/.local/share/jupyter/kernels/python3.10\n"
     ]
    }
   ],
   "source": []
  },
  {
   "cell_type": "code",
   "execution_count": 10,
   "metadata": {},
   "outputs": [
    {
     "name": "stdout",
     "output_type": "stream",
     "text": [
      "Python version: 3.10.12 (main, Sep 11 2024, 15:47:36) [GCC 11.4.0]\n"
     ]
    }
   ],
   "source": [
    "# Import necessary libraries\n",
    "import sys\n",
    "import numpy as np  # Example library\n",
    "import pandas as pd  # Example library\n",
    "\n",
    "# Check Python version (should be latest)\n",
    "print(f\"Python version: {sys.version}\")\n",
    "\n",
    "# Additional setup\n",
    "# Any additional setup or library imports can be added here."
   ]
  },
  {
   "cell_type": "markdown",
   "metadata": {},
   "source": [
    "## 2. Experiment Details\n",
    "\n",
    "Provide details on the specific Python feature or library being tested. Describe what this section of the notebook aims to explore."
   ]
  },
  {
   "cell_type": "code",
   "execution_count": 11,
   "metadata": {},
   "outputs": [
    {
     "name": "stdout",
     "output_type": "stream",
     "text": [
      "Squared values: [1, 4, 9, 16, 25]\n"
     ]
    }
   ],
   "source": [
    "# Code for experimentation\n",
    "# Replace this with relevant code for testing Python's latest features or libraries\n",
    "\n",
    "# Example code\n",
    "example_list = [1, 2, 3, 4, 5]\n",
    "example_squared = [x ** 2 for x in example_list]\n",
    "print(\"Squared values:\", example_squared)"
   ]
  },
  {
   "cell_type": "markdown",
   "metadata": {},
   "source": [
    "## 3. Results and Observations\n",
    "\n",
    "Summarize the results and observations from the experiment. Include any output or graphs as needed."
   ]
  },
  {
   "cell_type": "code",
   "execution_count": null,
   "metadata": {},
   "outputs": [],
   "source": [
    "# Visualize results or display additional output\n",
    "# For example, using matplotlib to create a simple plot\n",
    "import matplotlib.pyplot as plt\n",
    "\n",
    "plt.plot(example_list, example_squared)\n",
    "plt.xlabel('Original values')\n",
    "plt.ylabel('Squared values')\n",
    "plt.title('Example Plot')\n",
    "plt.show()"
   ]
  },
  {
   "cell_type": "markdown",
   "metadata": {},
   "source": [
    "## 4. Conclusion\n",
    "\n",
    "Summarize key takeaways from this experiment, including insights or recommendations based on the findings.\n",
    "\n",
    "- **Key Points**: ...\n",
    "- **Future Exploration**: ..."
   ]
  }
 ],
 "metadata": {
  "kernelspec": {
   "display_name": "Python 3",
   "language": "python",
   "name": "python3"
  },
  "language_info": {
   "codemirror_mode": {
    "name": "ipython",
    "version": 3
   },
   "file_extension": ".py",
   "mimetype": "text/x-python",
   "name": "python",
   "nbconvert_exporter": "python",
   "pygments_lexer": "ipython3",
   "version": "3.10.12"
  }
 },
 "nbformat": 4,
 "nbformat_minor": 5
}
