{
 "cells": [
  {
   "cell_type": "code",
   "execution_count": null,
   "metadata": {},
   "outputs": [],
   "source": [
    "!source .venv/bin/activate\n",
    "!pip3 install kagglehub\n",
    "\n",
    "\n"
   ]
  },
  {
   "cell_type": "code",
   "execution_count": 2,
   "metadata": {},
   "outputs": [
    {
     "name": "stdout",
     "output_type": "stream",
     "text": [
      "Defaulting to user installation because normal site-packages is not writeable\n",
      "Looking in indexes: https://pypi.org/simple, https://pypi.nvidia.com\n",
      "Collecting cudf-cu11\n",
      "  Using cached https://pypi.nvidia.com/cudf-cu11/cudf_cu11-24.10.1-cp310-cp310-manylinux_2_24_x86_64.manylinux_2_28_x86_64.whl (24.3 MB)\n",
      "Collecting cuda-python<12.0a0,>=11.7.1\n",
      "  Downloading cuda_python-11.8.4-cp310-cp310-manylinux_2_17_x86_64.manylinux2014_x86_64.whl (19.9 MB)\n",
      "\u001b[2K     \u001b[90m━━━━━━━━━━━━━━━━━━━━━━━━━━━━━━━━━━━━━━━━\u001b[0m \u001b[32m19.9/19.9 MB\u001b[0m \u001b[31m9.2 MB/s\u001b[0m eta \u001b[36m0:00:00\u001b[0m:00:01\u001b[0m0:01\u001b[0m\n",
      "\u001b[?25hCollecting pylibcudf-cu11==24.10.*\n",
      "  Using cached https://pypi.nvidia.com/pylibcudf-cu11/pylibcudf_cu11-24.10.1-cp310-cp310-manylinux_2_24_x86_64.manylinux_2_28_x86_64.whl (20.0 MB)\n",
      "Requirement already satisfied: cachetools in /home/fernando/.local/lib/python3.10/site-packages (from cudf-cu11) (5.2.0)\n",
      "Requirement already satisfied: packaging in /home/fernando/.local/lib/python3.10/site-packages (from cudf-cu11) (24.1)\n",
      "Requirement already satisfied: typing_extensions>=4.0.0 in /home/fernando/.local/lib/python3.10/site-packages (from cudf-cu11) (4.9.0)\n",
      "Requirement already satisfied: numpy<3.0a0,>=1.23 in /home/fernando/.local/lib/python3.10/site-packages (from cudf-cu11) (1.23.4)\n",
      "Collecting libcudf-cu11==24.10.*\n",
      "  Downloading https://pypi.nvidia.com/libcudf-cu11/libcudf_cu11-24.10.1-py3-none-manylinux_2_28_x86_64.whl (502.8 MB)\n",
      "\u001b[2K     \u001b[91m━━━━━━━━━━━━━━━━━\u001b[0m\u001b[90m╺\u001b[0m\u001b[90m━━━━━━━━━━━━━━━━━━━━━\u001b[0m \u001b[32m219.5/502.8 MB\u001b[0m \u001b[31m4.8 MB/s\u001b[0m eta \u001b[36m0:01:00\u001b[0m\n",
      "\u001b[?25h\u001b[31mERROR: THESE PACKAGES DO NOT MATCH THE HASHES FROM THE REQUIREMENTS FILE. If you have updated the package versions, please update the hashes. Otherwise, examine the package contents carefully; someone may have tampered with them.\n",
      "    libcudf-cu11==24.10.* from https://pypi.nvidia.com/libcudf-cu11/libcudf_cu11-24.10.1-py3-none-manylinux_2_28_x86_64.whl#sha256=d6fc0d34e25f162fcd11db40152425e8e5f176d9b21a89b4b6fdc93d8ec0be49 (from cudf-cu11):\n",
      "        Expected sha256 d6fc0d34e25f162fcd11db40152425e8e5f176d9b21a89b4b6fdc93d8ec0be49\n",
      "             Got        a32f1fdc33c3e1ea306d1f3c49c30515020e8f3c9d7a1996802eac2776f1a236\n",
      "\u001b[0m\u001b[31m\n",
      "\u001b[0mDefaulting to user installation because normal site-packages is not writeable\n",
      "Looking in indexes: https://pypi.org/simple, https://pypi.nvidia.com\n",
      "Collecting cudf-cu12\n",
      "  Using cached https://pypi.nvidia.com/cudf-cu12/cudf_cu12-24.10.1-cp310-cp310-manylinux_2_24_x86_64.manylinux_2_28_x86_64.whl (24.9 MB)\n",
      "Collecting pynvjitlink-cu12\n",
      "  Downloading pynvjitlink_cu12-0.4.0-cp310-cp310-manylinux_2_27_x86_64.manylinux_2_28_x86_64.whl (24.2 MB)\n",
      "\u001b[2K     \u001b[90m━━━━━━━━━━━━━━━━━━━━━━━━━━━━━━━━━━━━━━━━\u001b[0m \u001b[32m24.2/24.2 MB\u001b[0m \u001b[31m10.7 MB/s\u001b[0m eta \u001b[36m0:00:00\u001b[0m00:01\u001b[0m00:01\u001b[0m\n",
      "\u001b[?25hRequirement already satisfied: numpy<3.0a0,>=1.23 in /home/fernando/.local/lib/python3.10/site-packages (from cudf-cu12) (1.23.4)\n",
      "Collecting pandas<2.2.3dev0,>=2.0\n",
      "  Downloading pandas-2.2.2-cp310-cp310-manylinux_2_17_x86_64.manylinux2014_x86_64.whl (13.0 MB)\n",
      "\u001b[2K     \u001b[90m━━━━━━━━━━━━━━━━━━━━━━━━━━━━━━━━━━━━━━━━\u001b[0m \u001b[32m13.0/13.0 MB\u001b[0m \u001b[31m8.0 MB/s\u001b[0m eta \u001b[36m0:00:00\u001b[0m00:01\u001b[0m00:01\u001b[0m\n",
      "\u001b[?25hCollecting rmm-cu12==24.10.*\n",
      "  Using cached https://pypi.nvidia.com/rmm-cu12/rmm_cu12-24.10.0-cp310-cp310-manylinux_2_24_x86_64.manylinux_2_28_x86_64.whl (1.7 MB)\n",
      "Collecting cuda-python<13.0a0,>=12.0\n",
      "  Using cached cuda_python-12.6.1-cp310-cp310-manylinux_2_17_x86_64.manylinux2014_x86_64.whl (24.6 MB)\n",
      "Collecting numba>=0.57\n",
      "  Downloading numba-0.60.0-cp310-cp310-manylinux2014_x86_64.manylinux_2_17_x86_64.whl (3.7 MB)\n",
      "\u001b[2K     \u001b[90m━━━━━━━━━━━━━━━━━━━━━━━━━━━━━━━━━━━━━━━━\u001b[0m \u001b[32m3.7/3.7 MB\u001b[0m \u001b[31m10.4 MB/s\u001b[0m eta \u001b[36m0:00:00\u001b[0m00:01\u001b[0m00:01\u001b[0m\n",
      "\u001b[?25hCollecting nvtx>=0.2.1\n",
      "  Using cached nvtx-0.2.10-cp310-cp310-manylinux_2_17_x86_64.manylinux2014_x86_64.whl (582 kB)\n",
      "Collecting cupy-cuda12x>=12.0.0\n",
      "  Downloading cupy_cuda12x-13.3.0-cp310-cp310-manylinux2014_x86_64.whl (90.6 MB)\n",
      "\u001b[2K     \u001b[90m━━━━━━━━━━━━━━━━━━━━━━━━━━━━━━━━━━━━━━━━\u001b[0m \u001b[32m90.6/90.6 MB\u001b[0m \u001b[31m8.2 MB/s\u001b[0m eta \u001b[36m0:00:00\u001b[0m00:01\u001b[0m00:01\u001b[0mm\n",
      "\u001b[?25hRequirement already satisfied: packaging in /home/fernando/.local/lib/python3.10/site-packages (from cudf-cu12) (24.1)\n",
      "Collecting pylibcudf-cu12==24.10.*\n",
      "  Using cached https://pypi.nvidia.com/pylibcudf-cu12/pylibcudf_cu12-24.10.1-cp310-cp310-manylinux_2_24_x86_64.manylinux_2_28_x86_64.whl (20.5 MB)\n",
      "Requirement already satisfied: rich in /home/fernando/.local/lib/python3.10/site-packages (from cudf-cu12) (13.3.3)\n",
      "Collecting pyarrow<18.0.0a0,>=14.0.0\n",
      "  Using cached pyarrow-17.0.0-cp310-cp310-manylinux_2_28_x86_64.whl (39.9 MB)\n",
      "Requirement already satisfied: typing_extensions>=4.0.0 in /home/fernando/.local/lib/python3.10/site-packages (from cudf-cu12) (4.9.0)\n",
      "Requirement already satisfied: cachetools in /home/fernando/.local/lib/python3.10/site-packages (from cudf-cu12) (5.2.0)\n",
      "Collecting libcudf-cu12==24.10.*\n",
      "  Downloading https://pypi.nvidia.com/libcudf-cu12/libcudf_cu12-24.10.1-py3-none-manylinux_2_28_x86_64.whl (515.1 MB)\n",
      "\u001b[2K     \u001b[90m━━━━━━━━━━━━━━━━━━━━━━━━━━━━━━━━━━━━━━━\u001b[0m \u001b[32m515.1/515.1 MB\u001b[0m \u001b[31m3.3 MB/s\u001b[0m eta \u001b[36m0:00:00\u001b[0m00:01\u001b[0m00:03\u001b[0m\n",
      "\u001b[?25hRequirement already satisfied: fsspec>=0.6.0 in /home/fernando/.local/lib/python3.10/site-packages (from cudf-cu12) (2023.6.0)\n",
      "Collecting fastrlock>=0.5\n",
      "  Downloading fastrlock-0.8.2-cp310-cp310-manylinux_2_5_x86_64.manylinux1_x86_64.manylinux_2_28_x86_64.whl (51 kB)\n",
      "\u001b[2K     \u001b[90m━━━━━━━━━━━━━━━━━━━━━━━━━━━━━━━━━━━━━━━━\u001b[0m \u001b[32m51.3/51.3 KB\u001b[0m \u001b[31m6.2 MB/s\u001b[0m eta \u001b[36m0:00:00\u001b[0m\n",
      "\u001b[?25hCollecting llvmlite<0.44,>=0.43.0dev0\n",
      "  Downloading llvmlite-0.43.0-cp310-cp310-manylinux_2_17_x86_64.manylinux2014_x86_64.whl (43.9 MB)\n",
      "\u001b[2K     \u001b[90m━━━━━━━━━━━━━━━━━━━━━━━━━━━━━━━━━━━━━━━━\u001b[0m \u001b[32m43.9/43.9 MB\u001b[0m \u001b[31m9.6 MB/s\u001b[0m eta \u001b[36m0:00:00\u001b[0m:00:01\u001b[0m00:01\u001b[0m\n",
      "\u001b[?25hCollecting tzdata>=2022.7\n",
      "  Using cached tzdata-2024.2-py2.py3-none-any.whl (346 kB)\n",
      "Requirement already satisfied: python-dateutil>=2.8.2 in /usr/local/lib/python3.10/dist-packages (from pandas<2.2.3dev0,>=2.0->cudf-cu12) (2.8.2)\n",
      "Requirement already satisfied: pytz>=2020.1 in /usr/lib/python3/dist-packages (from pandas<2.2.3dev0,>=2.0->cudf-cu12) (2022.1)\n",
      "Requirement already satisfied: markdown-it-py<3.0.0,>=2.2.0 in /home/fernando/.local/lib/python3.10/site-packages (from rich->cudf-cu12) (2.2.0)\n",
      "Requirement already satisfied: pygments<3.0.0,>=2.13.0 in /usr/local/lib/python3.10/dist-packages (from rich->cudf-cu12) (2.13.0)\n",
      "Requirement already satisfied: mdurl~=0.1 in /home/fernando/.local/lib/python3.10/site-packages (from markdown-it-py<3.0.0,>=2.2.0->rich->cudf-cu12) (0.1.2)\n",
      "Requirement already satisfied: six>=1.5 in /usr/lib/python3/dist-packages (from python-dateutil>=2.8.2->pandas<2.2.3dev0,>=2.0->cudf-cu12) (1.16.0)\n",
      "Installing collected packages: nvtx, fastrlock, cuda-python, tzdata, pynvjitlink-cu12, pyarrow, llvmlite, libcudf-cu12, cupy-cuda12x, pandas, numba, rmm-cu12, pylibcudf-cu12, cudf-cu12\n",
      "  Attempting uninstall: tzdata\n",
      "    Found existing installation: tzdata 2022.2\n",
      "    Uninstalling tzdata-2022.2:\n",
      "      Successfully uninstalled tzdata-2022.2\n",
      "  Attempting uninstall: pyarrow\n",
      "    Found existing installation: pyarrow 10.0.1\n",
      "    Uninstalling pyarrow-10.0.1:\n",
      "      Successfully uninstalled pyarrow-10.0.1\n",
      "  Attempting uninstall: llvmlite\n",
      "    Found existing installation: llvmlite 0.39.1\n",
      "    Uninstalling llvmlite-0.39.1:\n",
      "      Successfully uninstalled llvmlite-0.39.1\n",
      "  Attempting uninstall: pandas\n",
      "    Found existing installation: pandas 1.5.2\n",
      "    Uninstalling pandas-1.5.2:\n",
      "      Successfully uninstalled pandas-1.5.2\n",
      "  Attempting uninstall: numba\n",
      "    Found existing installation: numba 0.56.4\n",
      "    Uninstalling numba-0.56.4:\n",
      "      Successfully uninstalled numba-0.56.4\n",
      "\u001b[31mERROR: pip's dependency resolver does not currently take into account all the packages that are installed. This behaviour is the source of the following dependency conflicts.\n",
      "mlflow 2.2.2 requires packaging<24, but you have packaging 24.1 which is incompatible.\n",
      "mlflow 2.2.2 requires pyarrow<12,>=4.0.0, but you have pyarrow 17.0.0 which is incompatible.\u001b[0m\u001b[31m\n",
      "\u001b[0mSuccessfully installed cuda-python-12.6.1 cudf-cu12-24.10.1 cupy-cuda12x-13.3.0 fastrlock-0.8.2 libcudf-cu12-24.10.1 llvmlite-0.43.0 numba-0.60.0 nvtx-0.2.10 pandas-2.2.2 pyarrow-17.0.0 pylibcudf-cu12-24.10.1 pynvjitlink-cu12-0.4.0 rmm-cu12-24.10.0 tzdata-2024.2\n",
      "Defaulting to user installation because normal site-packages is not writeable\n",
      "Looking in indexes: https://pypi.org/simple, https://pypi.nvidia.com\n",
      "Collecting polars[gpu]\n",
      "  Using cached polars-1.12.0-cp39-abi3-manylinux_2_17_x86_64.manylinux2014_x86_64.whl (34.1 MB)\n",
      "\u001b[33mWARNING: Skipping page https://pypi.nvidia.com/cudf-polars-cu12/ because the GET request got Content-Type: public, must-revalidate, proxy-revalidate, max-age=0.The only supported Content-Type is text/html\u001b[0m\u001b[33m\n",
      "\u001b[0mCollecting cudf-polars-cu12\n",
      "  Using cached cudf_polars_cu12-24.10.1.tar.gz (2.2 kB)\n",
      "  Installing build dependencies ... \u001b[?25ldone\n",
      "\u001b[?25h  Getting requirements to build wheel ... \u001b[?25ldone\n",
      "\u001b[?25h  Preparing metadata (pyproject.toml) ... \u001b[?25ldone\n",
      "\u001b[?25hRequirement already satisfied: pylibcudf-cu12==24.10.* in /home/fernando/.local/lib/python3.10/site-packages (from cudf-polars-cu12->polars[gpu]) (24.10.1)\n",
      "INFO: pip is looking at multiple versions of polars[gpu] to determine which version is compatible with other requirements. This could take a while.\n",
      "Collecting polars[gpu]\n",
      "  Using cached polars-1.11.0-cp39-abi3-manylinux_2_17_x86_64.manylinux2014_x86_64.whl (34.0 MB)\n",
      "  Using cached polars-1.10.0-cp39-abi3-manylinux_2_17_x86_64.manylinux2014_x86_64.whl (33.2 MB)\n",
      "  Using cached polars-1.9.0-cp38-abi3-manylinux_2_17_x86_64.manylinux2014_x86_64.whl (33.1 MB)\n",
      "  Using cached polars-1.8.2-cp38-abi3-manylinux_2_17_x86_64.manylinux2014_x86_64.whl (32.5 MB)\n",
      "Requirement already satisfied: cuda-python<13.0a0,>=12.0 in /home/fernando/.local/lib/python3.10/site-packages (from pylibcudf-cu12==24.10.*->cudf-polars-cu12->polars[gpu]) (12.6.1)\n",
      "Requirement already satisfied: pyarrow<18.0.0a0,>=14.0.0 in /home/fernando/.local/lib/python3.10/site-packages (from pylibcudf-cu12==24.10.*->cudf-polars-cu12->polars[gpu]) (17.0.0)\n",
      "Requirement already satisfied: libcudf-cu12==24.10.* in /home/fernando/.local/lib/python3.10/site-packages (from pylibcudf-cu12==24.10.*->cudf-polars-cu12->polars[gpu]) (24.10.1)\n",
      "Requirement already satisfied: typing_extensions>=4.0.0 in /home/fernando/.local/lib/python3.10/site-packages (from pylibcudf-cu12==24.10.*->cudf-polars-cu12->polars[gpu]) (4.9.0)\n",
      "Requirement already satisfied: packaging in /home/fernando/.local/lib/python3.10/site-packages (from pylibcudf-cu12==24.10.*->cudf-polars-cu12->polars[gpu]) (24.1)\n",
      "Requirement already satisfied: nvtx>=0.2.1 in /home/fernando/.local/lib/python3.10/site-packages (from pylibcudf-cu12==24.10.*->cudf-polars-cu12->polars[gpu]) (0.2.10)\n",
      "Requirement already satisfied: rmm-cu12==24.10.* in /home/fernando/.local/lib/python3.10/site-packages (from pylibcudf-cu12==24.10.*->cudf-polars-cu12->polars[gpu]) (24.10.0)\n",
      "Requirement already satisfied: numpy<3.0a0,>=1.23 in /home/fernando/.local/lib/python3.10/site-packages (from rmm-cu12==24.10.*->pylibcudf-cu12==24.10.*->cudf-polars-cu12->polars[gpu]) (1.23.4)\n",
      "Requirement already satisfied: numba>=0.57 in /home/fernando/.local/lib/python3.10/site-packages (from rmm-cu12==24.10.*->pylibcudf-cu12==24.10.*->cudf-polars-cu12->polars[gpu]) (0.60.0)\n",
      "Requirement already satisfied: llvmlite<0.44,>=0.43.0dev0 in /home/fernando/.local/lib/python3.10/site-packages (from numba>=0.57->rmm-cu12==24.10.*->pylibcudf-cu12==24.10.*->cudf-polars-cu12->polars[gpu]) (0.43.0)\n",
      "Building wheels for collected packages: cudf-polars-cu12\n",
      "  Building wheel for cudf-polars-cu12 (pyproject.toml) ... \u001b[?25ldone\n",
      "\u001b[?25h  Created wheel for cudf-polars-cu12: filename=cudf_polars_cu12-24.10.1-py3-none-any.whl size=53357 sha256=3aeb03d20bbf944106c86e22714437316148c86f659d9e691bf2a11cccbae8f5\n",
      "  Stored in directory: /home/fernando/.cache/pip/wheels/0b/60/a0/e6aa0053e52d34019bf87cb78f0215e71499afd0ca060b43f5\n",
      "Successfully built cudf-polars-cu12\n",
      "Installing collected packages: polars, cudf-polars-cu12\n",
      "Successfully installed cudf-polars-cu12-24.10.1 polars-1.8.2\n"
     ]
    }
   ],
   "source": [
    "!pip3 install cudf-cu11 --extra-index-url=https://pypi.nvidia.com\n",
    "!pip3 install cudf-cu12 --extra-index-url=https://pypi.nvidia.com\n",
    "!pip3 install -U polars[gpu] --extra-index-url=https://pypi.nvidia.com"
   ]
  },
  {
   "cell_type": "code",
   "execution_count": null,
   "metadata": {},
   "outputs": [],
   "source": []
  },
  {
   "cell_type": "code",
   "execution_count": null,
   "metadata": {},
   "outputs": [],
   "source": [
    "\n"
   ]
  },
  {
   "cell_type": "code",
   "execution_count": null,
   "metadata": {},
   "outputs": [
    {
     "name": "stdout",
     "output_type": "stream",
     "text": [
      "Path to dataset files: /home/fernando/.cache/kagglehub/datasets/asaniczka/tmdb-movies-dataset-2023-930k-movies/versions/382\n",
      "Archivos en el directorio:\n",
      "TMDB_movie_dataset_v11.csv\n",
      "Archivo copiado exitosamente.\n"
     ]
    }
   ],
   "source": [
    "import kagglehub\n",
    "import os\n",
    "import shutil\n",
    "\n",
    "# Download latest version\n",
    "path = kagglehub.dataset_download(\"asaniczka/tmdb-movies-dataset-2023-930k-movies\")\n",
    "\n",
    "print(\"Path to dataset files:\", path)\n",
    "\n",
    "\n",
    "ruta = path  # Cambia esta ruta por el directorio que quieras listar\n",
    "\n",
    "# Listar archivos y carpetas en la ruta\n",
    "archivos = os.listdir(ruta)\n",
    "\n",
    "# Filtrar solo archivos\n",
    "solo_archivos = [f for f in archivos if os.path.isfile(os.path.join(ruta, f))]\n",
    "\n",
    "print(\"Archivos en el directorio:\")\n",
    "for archivo in solo_archivos:\n",
    "    print(archivo)\n",
    "    # Copiar archivo\n",
    "    try:\n",
    "        shutil.copy(path+'/'+ archivo, 'dataSets'+'/'+archivo)\n",
    "        print(\"Archivo copiado exitosamente.\")\n",
    "    except FileNotFoundError:\n",
    "        print(\"El archivo de origen no fue encontrado.\")\n",
    "    except PermissionError:\n",
    "        print(\"No tienes permisos para acceder a la ubicación de destino.\")\n",
    "    except Exception as e:\n",
    "        print(f\"Ocurrió un error al copiar el archivo: {e}\")"
   ]
  },
  {
   "cell_type": "code",
   "execution_count": 10,
   "metadata": {},
   "outputs": [
    {
     "name": "stdout",
     "output_type": "stream",
     "text": [
      "naive plan: (run LazyFrame.explain(optimized=True) to see the optimized plan)\n",
      "\n",
      "Csv SCAN [dataSets/TMDB_movie_dataset_v11.csv]\n",
      "PROJECT */24 COLUMNS\n"
     ]
    }
   ],
   "source": [
    "import polars as pl\n",
    "\n",
    "df = pl.scan_csv('dataSets/'+archivo)\n",
    "\n",
    "print(df)"
   ]
  },
  {
   "cell_type": "code",
   "execution_count": null,
   "metadata": {},
   "outputs": [],
   "source": []
  },
  {
   "cell_type": "code",
   "execution_count": 12,
   "metadata": {},
   "outputs": [
    {
     "name": "stdout",
     "output_type": "stream",
     "text": [
      "              id  ...                                           keywords\n",
      "0          27205  ...  rescue, mission, dream, airplane, paris, franc...\n",
      "1         157336  ...  rescue, future, spacecraft, race against time,...\n",
      "2            155  ...  joker, sadism, chaos, secret identity, crime f...\n",
      "3          19995  ...  future, society, culture clash, space travel, ...\n",
      "4          24428  ...  new york city, superhero, shield, based on com...\n",
      "...          ...  ...                                                ...\n",
      "1127772   728735  ...                                                NaN\n",
      "1127773   728737  ...                                                NaN\n",
      "1127774   728738  ...                                                NaN\n",
      "1127775   728739  ...                                                NaN\n",
      "1127776  1382677  ...                                                NaN\n",
      "\n",
      "[1127777 rows x 24 columns]\n"
     ]
    }
   ],
   "source": [
    "import pandas as pd\n",
    "\n",
    "df_pandas = pd.read_csv('dataSets/'+archivo)\n",
    "print(df_pandas)"
   ]
  },
  {
   "cell_type": "code",
   "execution_count": 15,
   "metadata": {},
   "outputs": [],
   "source": [
    "gpu_engine = pl.GPUEngine(\n",
    "    device=0, # This is the default\n",
    "    raise_on_fail=True, # Fail loudly if we can't run on the GPU.\n",
    ")"
   ]
  },
  {
   "cell_type": "code",
   "execution_count": 16,
   "metadata": {},
   "outputs": [
    {
     "ename": "AttributeError",
     "evalue": "module 'cuda.ccudart' has no attribute '__pyx_capi__'",
     "output_type": "error",
     "traceback": [
      "\u001b[0;31m---------------------------------------------------------------------------\u001b[0m",
      "\u001b[0;31mAttributeError\u001b[0m                            Traceback (most recent call last)",
      "\u001b[0;32m/tmp/ipykernel_146812/3005039405.py\u001b[0m in \u001b[0;36m<module>\u001b[0;34m\u001b[0m\n\u001b[0;32m----> 1\u001b[0;31m \u001b[0mdf\u001b[0m\u001b[0;34m.\u001b[0m\u001b[0mselect\u001b[0m\u001b[0;34m(\u001b[0m\u001b[0mpl\u001b[0m\u001b[0;34m.\u001b[0m\u001b[0mcol\u001b[0m\u001b[0;34m(\u001b[0m\u001b[0;34m\"keywords\"\u001b[0m\u001b[0;34m)\u001b[0m\u001b[0;34m.\u001b[0m\u001b[0msum\u001b[0m\u001b[0;34m(\u001b[0m\u001b[0;34m)\u001b[0m\u001b[0;34m)\u001b[0m\u001b[0;34m.\u001b[0m\u001b[0mcollect\u001b[0m\u001b[0;34m(\u001b[0m\u001b[0mengine\u001b[0m\u001b[0;34m=\u001b[0m\u001b[0mgpu_engine\u001b[0m\u001b[0;34m)\u001b[0m\u001b[0;34m\u001b[0m\u001b[0;34m\u001b[0m\u001b[0m\n\u001b[0m",
      "\u001b[0;32m~/.local/lib/python3.10/site-packages/polars/lazyframe/frame.py\u001b[0m in \u001b[0;36mcollect\u001b[0;34m(self, type_coercion, predicate_pushdown, projection_pushdown, simplify_expression, slice_pushdown, comm_subplan_elim, comm_subexpr_elim, cluster_with_columns, collapse_joins, no_optimization, streaming, engine, background, _eager, **_kwargs)\u001b[0m\n\u001b[1;32m   2036\u001b[0m         \u001b[0mcallback\u001b[0m \u001b[0;34m=\u001b[0m \u001b[0;32mNone\u001b[0m\u001b[0;34m\u001b[0m\u001b[0;34m\u001b[0m\u001b[0m\n\u001b[1;32m   2037\u001b[0m         \u001b[0;32mif\u001b[0m \u001b[0mis_gpu\u001b[0m\u001b[0;34m:\u001b[0m\u001b[0;34m\u001b[0m\u001b[0;34m\u001b[0m\u001b[0m\n\u001b[0;32m-> 2038\u001b[0;31m             cudf_polars = import_optional(\n\u001b[0m\u001b[1;32m   2039\u001b[0m                 \u001b[0;34m\"cudf_polars\"\u001b[0m\u001b[0;34m,\u001b[0m\u001b[0;34m\u001b[0m\u001b[0;34m\u001b[0m\u001b[0m\n\u001b[1;32m   2040\u001b[0m                 \u001b[0merr_prefix\u001b[0m\u001b[0;34m=\u001b[0m\u001b[0;34m\"GPU engine requested, but required package\"\u001b[0m\u001b[0;34m,\u001b[0m\u001b[0;34m\u001b[0m\u001b[0;34m\u001b[0m\u001b[0m\n",
      "\u001b[0;32m~/.local/lib/python3.10/site-packages/polars/dependencies.py\u001b[0m in \u001b[0;36mimport_optional\u001b[0;34m(module_name, err_prefix, err_suffix, min_version, min_err_prefix, install_message)\u001b[0m\n\u001b[1;32m    270\u001b[0m     \u001b[0mmodule_root\u001b[0m \u001b[0;34m=\u001b[0m \u001b[0mmodule_name\u001b[0m\u001b[0;34m.\u001b[0m\u001b[0msplit\u001b[0m\u001b[0;34m(\u001b[0m\u001b[0;34m\".\"\u001b[0m\u001b[0;34m,\u001b[0m \u001b[0;36m1\u001b[0m\u001b[0;34m)\u001b[0m\u001b[0;34m[\u001b[0m\u001b[0;36m0\u001b[0m\u001b[0;34m]\u001b[0m\u001b[0;34m\u001b[0m\u001b[0;34m\u001b[0m\u001b[0m\n\u001b[1;32m    271\u001b[0m     \u001b[0;32mtry\u001b[0m\u001b[0;34m:\u001b[0m\u001b[0;34m\u001b[0m\u001b[0;34m\u001b[0m\u001b[0m\n\u001b[0;32m--> 272\u001b[0;31m         \u001b[0mmodule\u001b[0m \u001b[0;34m=\u001b[0m \u001b[0mimport_module\u001b[0m\u001b[0;34m(\u001b[0m\u001b[0mmodule_name\u001b[0m\u001b[0;34m)\u001b[0m\u001b[0;34m\u001b[0m\u001b[0;34m\u001b[0m\u001b[0m\n\u001b[0m\u001b[1;32m    273\u001b[0m     \u001b[0;32mexcept\u001b[0m \u001b[0mImportError\u001b[0m\u001b[0;34m:\u001b[0m\u001b[0;34m\u001b[0m\u001b[0;34m\u001b[0m\u001b[0m\n\u001b[1;32m    274\u001b[0m         \u001b[0mprefix\u001b[0m \u001b[0;34m=\u001b[0m \u001b[0;34mf\"{err_prefix.strip(' ')} \"\u001b[0m \u001b[0;32mif\u001b[0m \u001b[0merr_prefix\u001b[0m \u001b[0;32melse\u001b[0m \u001b[0;34m\"\"\u001b[0m\u001b[0;34m\u001b[0m\u001b[0;34m\u001b[0m\u001b[0m\n",
      "\u001b[0;32m/usr/lib/python3.10/importlib/__init__.py\u001b[0m in \u001b[0;36mimport_module\u001b[0;34m(name, package)\u001b[0m\n\u001b[1;32m    124\u001b[0m                 \u001b[0;32mbreak\u001b[0m\u001b[0;34m\u001b[0m\u001b[0;34m\u001b[0m\u001b[0m\n\u001b[1;32m    125\u001b[0m             \u001b[0mlevel\u001b[0m \u001b[0;34m+=\u001b[0m \u001b[0;36m1\u001b[0m\u001b[0;34m\u001b[0m\u001b[0;34m\u001b[0m\u001b[0m\n\u001b[0;32m--> 126\u001b[0;31m     \u001b[0;32mreturn\u001b[0m \u001b[0m_bootstrap\u001b[0m\u001b[0;34m.\u001b[0m\u001b[0m_gcd_import\u001b[0m\u001b[0;34m(\u001b[0m\u001b[0mname\u001b[0m\u001b[0;34m[\u001b[0m\u001b[0mlevel\u001b[0m\u001b[0;34m:\u001b[0m\u001b[0;34m]\u001b[0m\u001b[0;34m,\u001b[0m \u001b[0mpackage\u001b[0m\u001b[0;34m,\u001b[0m \u001b[0mlevel\u001b[0m\u001b[0;34m)\u001b[0m\u001b[0;34m\u001b[0m\u001b[0;34m\u001b[0m\u001b[0m\n\u001b[0m\u001b[1;32m    127\u001b[0m \u001b[0;34m\u001b[0m\u001b[0m\n\u001b[1;32m    128\u001b[0m \u001b[0;34m\u001b[0m\u001b[0m\n",
      "\u001b[0;32m/usr/lib/python3.10/importlib/_bootstrap.py\u001b[0m in \u001b[0;36m_gcd_import\u001b[0;34m(name, package, level)\u001b[0m\n",
      "\u001b[0;32m/usr/lib/python3.10/importlib/_bootstrap.py\u001b[0m in \u001b[0;36m_find_and_load\u001b[0;34m(name, import_)\u001b[0m\n",
      "\u001b[0;32m/usr/lib/python3.10/importlib/_bootstrap.py\u001b[0m in \u001b[0;36m_find_and_load_unlocked\u001b[0;34m(name, import_)\u001b[0m\n",
      "\u001b[0;32m/usr/lib/python3.10/importlib/_bootstrap.py\u001b[0m in \u001b[0;36m_load_unlocked\u001b[0;34m(spec)\u001b[0m\n",
      "\u001b[0;32m/usr/lib/python3.10/importlib/_bootstrap_external.py\u001b[0m in \u001b[0;36mexec_module\u001b[0;34m(self, module)\u001b[0m\n",
      "\u001b[0;32m/usr/lib/python3.10/importlib/_bootstrap.py\u001b[0m in \u001b[0;36m_call_with_frames_removed\u001b[0;34m(f, *args, **kwds)\u001b[0m\n",
      "\u001b[0;32m~/.local/lib/python3.10/site-packages/cudf_polars/__init__.py\u001b[0m in \u001b[0;36m<module>\u001b[0;34m\u001b[0m\n\u001b[1;32m     12\u001b[0m \u001b[0;34m\u001b[0m\u001b[0m\n\u001b[1;32m     13\u001b[0m \u001b[0;32mfrom\u001b[0m \u001b[0mcudf_polars\u001b[0m\u001b[0;34m.\u001b[0m\u001b[0m_version\u001b[0m \u001b[0;32mimport\u001b[0m \u001b[0m__git_commit__\u001b[0m\u001b[0;34m,\u001b[0m \u001b[0m__version__\u001b[0m\u001b[0;34m\u001b[0m\u001b[0;34m\u001b[0m\u001b[0m\n\u001b[0;32m---> 14\u001b[0;31m \u001b[0;32mfrom\u001b[0m \u001b[0mcudf_polars\u001b[0m\u001b[0;34m.\u001b[0m\u001b[0mcallback\u001b[0m \u001b[0;32mimport\u001b[0m \u001b[0mexecute_with_cudf\u001b[0m\u001b[0;34m\u001b[0m\u001b[0;34m\u001b[0m\u001b[0m\n\u001b[0m\u001b[1;32m     15\u001b[0m \u001b[0;32mfrom\u001b[0m \u001b[0mcudf_polars\u001b[0m\u001b[0;34m.\u001b[0m\u001b[0mdsl\u001b[0m\u001b[0;34m.\u001b[0m\u001b[0mtranslate\u001b[0m \u001b[0;32mimport\u001b[0m \u001b[0mtranslate_ir\u001b[0m\u001b[0;34m\u001b[0m\u001b[0;34m\u001b[0m\u001b[0m\n\u001b[1;32m     16\u001b[0m \u001b[0;34m\u001b[0m\u001b[0m\n",
      "\u001b[0;32m~/.local/lib/python3.10/site-packages/cudf_polars/callback.py\u001b[0m in \u001b[0;36m<module>\u001b[0;34m\u001b[0m\n\u001b[1;32m     16\u001b[0m \u001b[0;32mfrom\u001b[0m \u001b[0mpolars\u001b[0m\u001b[0;34m.\u001b[0m\u001b[0mexceptions\u001b[0m \u001b[0;32mimport\u001b[0m \u001b[0mComputeError\u001b[0m\u001b[0;34m,\u001b[0m \u001b[0mPerformanceWarning\u001b[0m\u001b[0;34m\u001b[0m\u001b[0;34m\u001b[0m\u001b[0m\n\u001b[1;32m     17\u001b[0m \u001b[0;34m\u001b[0m\u001b[0m\n\u001b[0;32m---> 18\u001b[0;31m \u001b[0;32mimport\u001b[0m \u001b[0mrmm\u001b[0m\u001b[0;34m\u001b[0m\u001b[0;34m\u001b[0m\u001b[0m\n\u001b[0m\u001b[1;32m     19\u001b[0m \u001b[0;32mfrom\u001b[0m \u001b[0mrmm\u001b[0m\u001b[0;34m.\u001b[0m\u001b[0m_cuda\u001b[0m \u001b[0;32mimport\u001b[0m \u001b[0mgpu\u001b[0m\u001b[0;34m\u001b[0m\u001b[0;34m\u001b[0m\u001b[0m\n\u001b[1;32m     20\u001b[0m \u001b[0;34m\u001b[0m\u001b[0m\n",
      "\u001b[0;32m~/.local/lib/python3.10/site-packages/rmm/__init__.py\u001b[0m in \u001b[0;36m<module>\u001b[0;34m\u001b[0m\n\u001b[1;32m     14\u001b[0m \u001b[0;34m\u001b[0m\u001b[0m\n\u001b[1;32m     15\u001b[0m \u001b[0;32mfrom\u001b[0m \u001b[0mrmm\u001b[0m \u001b[0;32mimport\u001b[0m \u001b[0mmr\u001b[0m\u001b[0;34m\u001b[0m\u001b[0;34m\u001b[0m\u001b[0m\n\u001b[0;32m---> 16\u001b[0;31m \u001b[0;32mfrom\u001b[0m \u001b[0mrmm\u001b[0m\u001b[0;34m.\u001b[0m\u001b[0m_lib\u001b[0m\u001b[0;34m.\u001b[0m\u001b[0mdevice_buffer\u001b[0m \u001b[0;32mimport\u001b[0m \u001b[0mDeviceBuffer\u001b[0m\u001b[0;34m\u001b[0m\u001b[0;34m\u001b[0m\u001b[0m\n\u001b[0m\u001b[1;32m     17\u001b[0m from rmm._lib.logger import (\n\u001b[1;32m     18\u001b[0m     \u001b[0mflush_logger\u001b[0m\u001b[0;34m,\u001b[0m\u001b[0;34m\u001b[0m\u001b[0;34m\u001b[0m\u001b[0m\n",
      "\u001b[0;32m~/.local/lib/python3.10/site-packages/rmm/_lib/__init__.py\u001b[0m in \u001b[0;36m<module>\u001b[0;34m\u001b[0m\n\u001b[1;32m     13\u001b[0m \u001b[0;31m# limitations under the License.\u001b[0m\u001b[0;34m\u001b[0m\u001b[0;34m\u001b[0m\u001b[0m\n\u001b[1;32m     14\u001b[0m \u001b[0;34m\u001b[0m\u001b[0m\n\u001b[0;32m---> 15\u001b[0;31m \u001b[0;32mfrom\u001b[0m \u001b[0;34m.\u001b[0m\u001b[0mdevice_buffer\u001b[0m \u001b[0;32mimport\u001b[0m \u001b[0mDeviceBuffer\u001b[0m\u001b[0;34m\u001b[0m\u001b[0;34m\u001b[0m\u001b[0m\n\u001b[0m",
      "\u001b[0;32mdevice_buffer.pyx\u001b[0m in \u001b[0;36minit rmm._lib.device_buffer\u001b[0;34m()\u001b[0m\n",
      "\u001b[0;31mAttributeError\u001b[0m: module 'cuda.ccudart' has no attribute '__pyx_capi__'"
     ]
    }
   ],
   "source": [
    "df.select(pl.col(\"keywords\").sum()).collect(engine=gpu_engine)"
   ]
  },
  {
   "cell_type": "code",
   "execution_count": null,
   "metadata": {},
   "outputs": [],
   "source": []
  }
 ],
 "metadata": {
  "kernelspec": {
   "display_name": "Python 3",
   "language": "python",
   "name": "python3"
  },
  "language_info": {
   "codemirror_mode": {
    "name": "ipython",
    "version": 3
   },
   "file_extension": ".py",
   "mimetype": "text/x-python",
   "name": "python",
   "nbconvert_exporter": "python",
   "pygments_lexer": "ipython3",
   "version": "3.10.12"
  }
 },
 "nbformat": 4,
 "nbformat_minor": 2
}
